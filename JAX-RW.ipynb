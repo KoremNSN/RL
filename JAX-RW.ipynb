{
 "cells": [
  {
   "cell_type": "markdown",
   "id": "8c19cf04-db7d-44fd-b886-6a39ddc54746",
   "metadata": {},
   "source": [
    "# Model-based analysis of Reversal Learning\n",
    "\n",
    "#### Korem et al., 2025?\n",
    "\n",
    "This notebook performs a model-based analysis on a reversal learning task from the aging project dataset. The goal is to examine the effects of sex and aging on reward-based learning by comparing different value-updating models.\n",
    "\n",
    "### Step 1: Modeling Behavior\n",
    "We test the following models to analyze behavior during learning:\n",
    "\n",
    "1. Single learning rate: A single parameter governing how the agent updates its expectations based on rewards.</br>\n",
    "2. Valence model: Separate learning rates for positive and negative reward updating.</br>\n",
    "3. Phases model: Separate learning rates for the acquisition and reversal phases.</br>\n",
    "4. Valence and Phases model: Combines separate learning rates for positive/negative updating and the two task phases.</br>\n",
    "5. Decay model: Adds a decay factor, simulating memory decay.</br>\n",
    "6. Pierce-Hall model: A dynamic learning model based on attention and associative changes.</br>\n",
    "\n",
    "### Step 2: Analyzing Age and Sex\n",
    "We use the best-performing model from Step 1 to investigate the impact of age and sex on learning. Specifically, we test whether the learning rates differ across sex and age.\n",
    "\n",
    "## Step 0: Load Libraries\n",
    "We begin by importing the necessary libraries and reading in the dataset."
   ]
  },
  {
   "cell_type": "code",
   "execution_count": 1,
   "id": "cff0de8f-1044-4fa2-9f70-262f6facdbfc",
   "metadata": {},
   "outputs": [],
   "source": [
    "import pandas as pd\n",
    "import numpy as np\n",
    "import os\n",
    "\n",
    "import learning_function\n",
    "\n",
    "import matplotlib.pyplot as plt\n",
    "import seaborn as sns\n",
    "\n",
    "import pytensor.tensor as pt\n",
    "from pytensor import scan\n",
    "\n",
    "import pymc as pm\n",
    "import arviz as az\n",
    "\n",
    "# Suppressing warnings for cleaner output\n",
    "import warnings\n",
    "warnings.filterwarnings('ignore')"
   ]
  },
  {
   "cell_type": "code",
   "execution_count": 2,
   "id": "bd8bc1ba-ba45-437f-be83-afeb7a1479aa",
   "metadata": {},
   "outputs": [
    {
     "name": "stdout",
     "output_type": "stream",
     "text": [
      "Number of subjects: 70\n"
     ]
    }
   ],
   "source": [
    "db = pd.read_csv('RW.csv')\n",
    "db['Gender'] = np.where(db['gender'] == 'M', 1, 0)\n",
    "\n",
    "# Extracting unique subjects and removing redundant columns\n",
    "subs = db.drop_duplicates('sub')\n",
    "subs = subs.drop(['trialNum', 'rectOri', 'rectValue', 'rating', 'RT'], axis=1).reset_index(drop=True)\n",
    "\n",
    "n_subj   = len(db['sub'].unique())\n",
    "print('Number of subjects:', n_subj)\n",
    "n_trials = max(db.trialNum)\n",
    "\n",
    "# Meshgrid for trials and subjects\n",
    "trials, subj = np.meshgrid(range(n_trials), range(n_subj))\n",
    "trial = (trials < 35) * 1  # Indicator for phases (acquisition/reversal)\n",
    "\n",
    "# Convert data to tensors for modeling\n",
    "stim   = np.reshape([db['rectOri']], (n_subj, n_trials)).T\n",
    "reward = np.reshape([db['rectValue']], (n_subj, n_trials)).T\n",
    "rating = np.reshape([db['rating']], (n_subj, n_trials)).T\n",
    "\n",
    "stim   = np.array(stim / 45, dtype='int')\n",
    "reward = np.array(reward / 6, dtype='int')\n",
    "rating = np.where(rating == 0, np.nan, rating / 9)\n",
    "\n",
    "stim_tensor = pt.as_tensor_variable(stim)\n",
    "reward_tensor = pt.as_tensor_variable(reward)\n"
   ]
  },
  {
   "cell_type": "markdown",
   "id": "25d35d2b-1b3b-4997-8966-ad31060238a3",
   "metadata": {},
   "source": [
    "## Step 1: Modeling Behavior\n",
    "\n",
    "### Model 1: Bush-Mosteller Model (Single Learning Rate)\n",
    "This model assumes that all updates to expected values are governed by a single learning rate parameter, α.\n",
    "\n",
    "Bush, R. R., & Mosteller, F. (1953). A stochastic model with applications to learning. The Annals of Mathematical Statistics, 559-585."
   ]
  },
  {
   "cell_type": "code",
   "execution_count": 3,
   "id": "c4a51867-a3c0-47a5-aed9-4632404c92b2",
   "metadata": {},
   "outputs": [
    {
     "name": "stdout",
     "output_type": "stream",
     "text": [
      "CPU times: user 39.5 s, sys: 2.45 s, total: 42 s\n",
      "Wall time: 18 s\n"
     ]
    }
   ],
   "source": [
    "%%time\n",
    "with pm.Model() as model_sinle:\n",
    "\n",
    "    # Hyper priors\n",
    "    a1 = pm.TruncatedNormal('a1', 1, 1, lower=0)\n",
    "    b1 = pm.TruncatedNormal('b1', 3, 1, lower=0)\n",
    "\n",
    "    # Learning rate\n",
    "    alpha = pm.Beta('alpha', a1, b1, shape=n_subj)\n",
    "    # Observation noise\n",
    "    eps = pm.Gamma('eps', 3, 1)\n",
    "    \n",
    "    As  = 0 * pt.ones((n_subj, 2), dtype='float64')\n",
    "    vec = 0 * pt.ones((n_subj, 1), dtype='float64')\n",
    "    \n",
    "    [As, vec], _      = scan(  \n",
    "        fn            = learning_function.update_single,\n",
    "        sequences     = [stim_tensor, reward_tensor],\n",
    "        outputs_info  = [As, vec],\n",
    "        non_sequences = [alpha, n_subj]\n",
    "    )\n",
    "    \n",
    "    vec_ = vec[trials, subj, 0]\n",
    "    \n",
    "    learn = pm.Normal('learn', mu=vec_, sigma=eps, observed=rating)\n",
    "    \n",
    "    ev = pm.Deterministic('expected_value', vec_)\n",
    "    \n",
    "    trace_single = pm.sample(nuts_sampler=\"blackjax\", idata_kwargs={'log_likelihood':True})"
   ]
  },
  {
   "cell_type": "markdown",
   "id": "859008c3-bce0-4c6f-9dda-164b6ed3155c",
   "metadata": {},
   "source": [
    "### Model 2: Valence Model (Separate Learning Rates for Positive and Negative Updates)\n",
    "This model introduces separate learning rates for positive and negative reward updates, allowing for asymmetry in learning.\n",
    "\n",
    "Hopkins, A. K., Dolan, R., Button, K. S., & Moutoussis, M. (2021). A reduced self-positive belief underpins greater sensitivity to negative evaluation in socially anxious individuals. Computational psychiatry (Cambridge, Mass.), 5(1), 21."
   ]
  },
  {
   "cell_type": "code",
   "execution_count": 4,
   "id": "87205a15-a3fd-4da9-bf54-9f2baf72a30d",
   "metadata": {},
   "outputs": [
    {
     "name": "stdout",
     "output_type": "stream",
     "text": [
      "CPU times: user 1min 10s, sys: 495 ms, total: 1min 10s\n",
      "Wall time: 28.4 s\n"
     ]
    }
   ],
   "source": [
    "%%time\n",
    "with pm.Model() as model_valnece:\n",
    "\n",
    "    # Hyper priors\n",
    "    ap = pm.TruncatedNormal('ap', 1, 1, lower=0)\n",
    "    bp = pm.TruncatedNormal('bp', 3, 1, lower=0)\n",
    "    an = pm.TruncatedNormal('an', 1, 1, lower=0)\n",
    "    bn = pm.TruncatedNormal('bn', 3, 1, lower=0)\n",
    "\n",
    "    # Learning rate for positive and negative updates\n",
    "    alpha_p = pm.Beta('alpha_p', ap, bp, shape=n_subj)\n",
    "    alpha_n = pm.Beta('alpha_n', an, bn, shape=n_subj)\n",
    "    \n",
    "    eps = pm.Gamma('eps', 3,1)\n",
    "    \n",
    "    As  = 0 * pt.ones((n_subj, 2), dtype='float64')\n",
    "    vec = 0 * pt.ones((n_subj, 1), dtype='float64')\n",
    "    \n",
    "    [As, vec], _ = scan(\n",
    "        fn=learning_function.update_valence,\n",
    "        sequences=[stim_tensor, reward_tensor],\n",
    "        outputs_info=[As, vec],\n",
    "        non_sequences=[alpha_p, alpha_n, n_subj]\n",
    "    )\n",
    "    \n",
    "    vec_ = vec[trials, subj, 0]\n",
    "    \n",
    "    learn = pm.Normal('learn', mu=vec_, sigma=eps, observed=rating)\n",
    "    \n",
    "    ev = pm.Deterministic('expected_value', vec_)\n",
    "    \n",
    "    trace_valence = pm.sample(nuts_sampler=\"blackjax\", idata_kwargs={'log_likelihood':True})"
   ]
  },
  {
   "cell_type": "markdown",
   "id": "26d3d7c5-e909-49d3-b807-6ac1c2f361d1",
   "metadata": {},
   "source": [
    "### Model 3: Phases Model (Separate Learning Rates for Acquisition and Reversal Phases)\n",
    "Here, we introduce separate learning rates for the acquisition and reversal phases of the task.\n",
    "\n",
    "Daw, N. D. (2011). Trial-by-trial data analysis using computational models. Decision making, affect, and learning: Attention and performance XXIII, 23(1)."
   ]
  },
  {
   "cell_type": "code",
   "execution_count": 5,
   "id": "765646fa-ddb5-4e6a-be58-09f96e34e012",
   "metadata": {},
   "outputs": [
    {
     "name": "stdout",
     "output_type": "stream",
     "text": [
      "CPU times: user 54.5 s, sys: 473 ms, total: 55 s\n",
      "Wall time: 23.7 s\n"
     ]
    }
   ],
   "source": [
    "%%time\n",
    "with pm.Model() as model_halves:\n",
    "\n",
    "    # Hyper priors\n",
    "    a1 = pm.TruncatedNormal('a1', 1, 1, lower=0)\n",
    "    b1 = pm.TruncatedNormal('b1', 3, 1, lower=0)\n",
    "    a2 = pm.TruncatedNormal('a2', 1, 1, lower=0)\n",
    "    b2 = pm.TruncatedNormal('b2', 3, 1, lower=0)\n",
    "    \n",
    "    # Learning rate for acquisition and reversal\n",
    "    alpha_1 = pm.Beta('alpha_1', a1, b1, shape=n_subj)\n",
    "    alpha_2 = pm.Beta('alpha_2', a2, b2, shape=n_subj)\n",
    "    \n",
    "    eps = pm.Gamma('eps', 3, 1)\n",
    "    \n",
    "    As  = 0 * pt.ones((n_subj,2), dtype='float64')\n",
    "    vec = 0 * pt.ones((n_subj,1), dtype='float64')\n",
    "    \n",
    "    [As, vec], updates = scan(\n",
    "        fn            = learning_function.update_halves,\n",
    "        sequences     = [stim, reward, trial],\n",
    "        outputs_info  = [As, vec],\n",
    "        non_sequences = [alpha_1, alpha_2,  n_subj])\n",
    "   \n",
    "    \n",
    "    vec_ = vec[trials,subj,0]\n",
    "    \n",
    "    learn = pm.Normal('learn', vec_, eps, observed=rating) \n",
    "    \n",
    "    # add matrix of expected values (trials X subjects)\n",
    "    ev = pm.Deterministic('expected_value', vec_)\n",
    "    \n",
    "    trace_halves = pm.sample(nuts_sampler=\"blackjax\", idata_kwargs={'log_likelihood':True})"
   ]
  },
  {
   "cell_type": "markdown",
   "id": "ef5a5e25-df92-43d8-b8fe-baa0158c0e87",
   "metadata": {},
   "source": [
    "### Model 4: a combined model with separate learning rates for negative and positive updating and the different phases\n",
    "Here, we introduce separate learning rates for the positive and negative updating as well as for the acquisition and reversal phases of the task.\n"
   ]
  },
  {
   "cell_type": "code",
   "execution_count": 6,
   "id": "25b8860f-1298-4fc4-b877-945413affe9c",
   "metadata": {},
   "outputs": [
    {
     "name": "stdout",
     "output_type": "stream",
     "text": [
      "CPU times: user 1min 50s, sys: 839 ms, total: 1min 51s\n",
      "Wall time: 45.8 s\n"
     ]
    }
   ],
   "source": [
    "%%time\n",
    "with pm.Model() as model_valence_halves:\n",
    "\n",
    "    # Hyper priors\n",
    "\n",
    "    ap1 = pm.TruncatedNormal('ap1', 1, 1, lower=0)\n",
    "    bp1 = pm.TruncatedNormal('bp1', 3, 1, lower=0)\n",
    "\n",
    "    ap2 = pm.TruncatedNormal('ap2', 1, 1, lower=0)\n",
    "    bp2 = pm.TruncatedNormal('bp2', 3, 1, lower=0)\n",
    "\n",
    "    an1 = pm.TruncatedNormal('an1', 1, 1, lower=0)\n",
    "    bn1 = pm.TruncatedNormal('bn1', 3, 1, lower=0)\n",
    "\n",
    "    an2 = pm.TruncatedNormal('an2', 1, 1, lower=0)\n",
    "    bn2 = pm.TruncatedNormal('bn2', 3, 1, lower=0)\n",
    "\n",
    "    # Separate learning rates for each phase\n",
    "    alphap_1 = pm.Beta('alphap_1', ap1, bp1, shape=n_subj)\n",
    "    alphap_2 = pm.Beta('alphap_2', ap2, bp2, shape=n_subj)\n",
    "    alphan_1 = pm.Beta('alphan_1', an1, bn1, shape=n_subj)\n",
    "    alphan_2 = pm.Beta('alphan_2', an2, bn2, shape=n_subj)\n",
    "\n",
    "    eps = pm.Gamma('eps', 3, 1)\n",
    "    \n",
    "    As  = 0 * pt.ones((n_subj,2), dtype='float64') # set values for boths stimuli (CS+, CS-)\n",
    "    vec = 0 * pt.ones((n_subj,1), dtype='float64') # vector to save the relevant stimulus's expactation\n",
    "    \n",
    "    [As, vec], updates = scan(\n",
    "        fn            = learning_function.update_valence_halves,\n",
    "        sequences     = [stim, reward, trial],\n",
    "        outputs_info  = [As, vec],\n",
    "        non_sequences = [alphap_1, alphan_1, alphap_2, alphan_2,  n_subj])\n",
    "   \n",
    "    \n",
    "    vec_ = vec[trials,subj,0] \n",
    "    \n",
    "    learn = pm.Normal('learn', vec_, eps, observed=rating) \n",
    "    \n",
    "    # add matrix of expected values (trials X subjects)\n",
    "    ev = pm.Deterministic('expected_value', vec_)\n",
    "    \n",
    "    trace_valence_halves = pm.sample(nuts_sampler=\"blackjax\", idata_kwargs={'log_likelihood':True})"
   ]
  },
  {
   "cell_type": "markdown",
   "id": "c1825a92-a520-4285-ae97-f88e3dbd1f45",
   "metadata": {},
   "source": [
    "### Model 5: a model with a decay factor\n",
    "In this model, we introduce a decay factor to account for the diminishing influence of older information over time, which helps improve belief updating in dynamic environments.\n",
    "\n",
    "Nassar, M. R., Wilson, R. C., Heasly, B., & Gold, J. I. (2010). An approximately Bayesian delta-rule model explains the dynamics of belief updating in a changing environment. Journal of Neuroscience, 30(37), 12366-12378."
   ]
  },
  {
   "cell_type": "code",
   "execution_count": 7,
   "id": "1f34c952-2d12-4257-9777-9fd4f5200af4",
   "metadata": {},
   "outputs": [
    {
     "name": "stdout",
     "output_type": "stream",
     "text": [
      "CPU times: user 1min 1s, sys: 445 ms, total: 1min 1s\n",
      "Wall time: 23.7 s\n"
     ]
    }
   ],
   "source": [
    "%%time\n",
    "with pm.Model() as model_decay:\n",
    "\n",
    "    # Hyper priors\n",
    "    a1 = pm.TruncatedNormal('a1', 1, 1, lower=0)\n",
    "    b1 = pm.TruncatedNormal('b1', 3, 1, lower=0)\n",
    "\n",
    "    # Single learning rate and Decay factor\n",
    "    alpha = pm.Beta('alpha', a1, b1, shape=n_subj) \n",
    "    decay = pm.Beta('decay', 1, 1, shape=n_subj)\n",
    "    \n",
    "    eps = pm.Gamma('eps', 3, 1)\n",
    "    \n",
    "    As  = 0 * pt.ones((n_subj,2), dtype='float64') # set values for boths stimuli (CS+, CS-)\n",
    "    vec = 0 * pt.ones((n_subj,1), dtype='float64') # vector to save the relevant stimulus's expactation\n",
    "    \n",
    "    [As, vec], updates = scan(\n",
    "        fn            = learning_function.update_decay,\n",
    "        sequences     = [stim, reward],\n",
    "        outputs_info  = [As, vec],\n",
    "        non_sequences = [alpha, decay, n_subj])\n",
    "   \n",
    "    vec_ = vec[trials, subj, 0]\n",
    "    \n",
    "    learn = pm.Normal('learn', vec_, eps, observed = rating) \n",
    "    \n",
    "    ev = pm.Deterministic('expected_value', vec_)\n",
    "    \n",
    "    trace_decay = pm.sample(nuts_sampler=\"blackjax\", idata_kwargs={'log_likelihood':True})"
   ]
  },
  {
   "cell_type": "markdown",
   "id": "8974246f-f333-4018-89a2-cefa2a086112",
   "metadata": {},
   "source": [
    "### Model 6: a counterfactual model\n",
    "In this model, we introduce two learning rates: 1 for learning and one counterfactual.\n",
    "Using separate learning rates for actual and counterfactual outcomes is important because learning from hypothetical scenarios (counterfactual learning) might be slower or different from learning from direct experiences. This model setup allows you to test whether individuals learn differently from rewards they receive versus rewards they might have missed.\n",
    "\n",
    "Palminteri, S., Khamassi, M., Joffily, M., & Coricelli, G. (2015). Contextual modulation of value signals in reward and punishment learning. Nature Communications, 6, 8096. doi: 10.1038/ncomms9096"
   ]
  },
  {
   "cell_type": "code",
   "execution_count": 8,
   "id": "12844196-d5d5-4094-bf86-b1847c51de67",
   "metadata": {},
   "outputs": [
    {
     "name": "stdout",
     "output_type": "stream",
     "text": [
      "CPU times: user 1min 21s, sys: 545 ms, total: 1min 22s\n",
      "Wall time: 31.4 s\n"
     ]
    }
   ],
   "source": [
    "%%time\n",
    "with pm.Model() as model_counterfactual:\n",
    "\n",
    "    # Hyper priors for actual and counterfactual learning rates\n",
    "    a1 = pm.TruncatedNormal('a1', 1, 1, lower=0)\n",
    "    b1 = pm.TruncatedNormal('b1', 3, 1, lower=0)\n",
    "\n",
    "    a2 = pm.TruncatedNormal('a2', 1, 1, lower=0)\n",
    "    b2 = pm.TruncatedNormal('b2', 3, 1, lower=0)\n",
    "\n",
    "    # Learning rate for actual (chosen) updates\n",
    "    alpha = pm.Beta('alpha', a1, b1, shape=n_subj)\n",
    "\n",
    "    # Learning rate for counterfactual (unchosen) updates\n",
    "    alpha_counterfactual = pm.Beta('alpha_counterfactual', a2, b2, shape=n_subj)\n",
    "    \n",
    "    # Observation noise\n",
    "    eps = pm.Gamma('eps', 3, 1)\n",
    "    \n",
    "    # Initialize As (value estimates) and vec (prediction error tracking)\n",
    "    As  = 0 * pt.ones((n_subj, 2), dtype='float64')\n",
    "    vec = 0 * pt.ones((n_subj, 1), dtype='float64')\n",
    "    \n",
    "    # Update As and vec using the counterfactual learning function with separate learning rates\n",
    "    [As, vec], _ = scan(  \n",
    "        fn            = learning_function.update_counterfactual,  # Use the counterfactual update function\n",
    "        sequences     = [stim_tensor, reward_tensor],\n",
    "        outputs_info  = [As, vec],\n",
    "        non_sequences = [alpha, alpha_counterfactual, n_subj]\n",
    "    )\n",
    "    \n",
    "    # Select the appropriate vector for each trial and subject\n",
    "    vec_ = vec[trials, subj, 0]\n",
    "    \n",
    "    # Likelihood for observed data (ratings)\n",
    "    learn = pm.Normal('learn', mu=vec_, sigma=eps, observed=rating)\n",
    "    \n",
    "    # Expected values over trials\n",
    "    ev = pm.Deterministic('expected_value', vec_)\n",
    "    \n",
    "    # Sample from the posterior\n",
    "    trace_counterfactual = pm.sample(nuts_sampler=\"blackjax\", idata_kwargs={'log_likelihood':True})"
   ]
  },
  {
   "cell_type": "markdown",
   "id": "b9eaccea-bfd2-42b9-a68a-365863cdf075",
   "metadata": {},
   "source": [
    "### Model 7: Pierce Hall model\n",
    "This model employs a hybrid approach, assuming that the learning rate varies over time and is not constant, allowing for more flexible updates based on new information.\n",
    "\n",
    "Homan, P., Levy, I., Feltham, E., Gordon, C., Hu, J., Li, J., ... & Schiller, D. (2019). Neural computations of threat in the aftermath of combat trauma. Nature Neuroscience, 22(3), 470-476."
   ]
  },
  {
   "cell_type": "code",
   "execution_count": 9,
   "id": "36f374a1-0520-4ddf-85ca-8a190e134ccb",
   "metadata": {},
   "outputs": [
    {
     "name": "stdout",
     "output_type": "stream",
     "text": [
      "CPU times: user 1min 35s, sys: 566 ms, total: 1min 36s\n",
      "Wall time: 34.8 s\n"
     ]
    }
   ],
   "source": [
    "%%time\n",
    "with pm.Model() as model_PH:\n",
    "\n",
    "    # Hyper priors\n",
    "    a_kap = pm.TruncatedNormal('a_kap', 1, 1, lower=0)\n",
    "    b_kap = pm.TruncatedNormal('b_kap', 100, 1, lower=0)\n",
    "\n",
    "    # Eta represents the associability of a stimulus, determining how much attention is given to it for learning on a given trial. \n",
    "    # Kappa reflects the expected learning rate, \n",
    "    eta   = pm.Beta('eta',   1, 1, shape=n_subj)\n",
    "    kappa = pm.Beta('kappa', a_kap, b_kap, shape=n_subj)\n",
    "\n",
    "    eps = pm.Gamma('eps', 3, 1)\n",
    "    \n",
    "    As    = 0 * pt.ones((n_subj,2), dtype='float64') # set values for boths stimuli (CS+, CS-)\n",
    "    vec   = 0 * pt.ones((n_subj,1), dtype='float64') # vector to save the relevant stimulus's expactation\n",
    "    alpha = 0 * pt.ones((n_subj,2), dtype='float64') # vector to save the relevant stimulus's expactation\n",
    "    assoc = 0 * pt.ones((n_subj,1), dtype='float64') # vector to save the relevant stimulus's expactation\n",
    "    \n",
    "    [As, vec, alpha, assoc], updates = scan(\n",
    "        fn=learning_function.update_phall,\n",
    "        sequences=[stim, reward],\n",
    "        outputs_info=[As, vec, alpha, assoc],\n",
    "        non_sequences=[eta, kappa, n_subj])\n",
    "    \n",
    "    vec_ = vec[trials, subj,0]\n",
    "\n",
    "    learn = pm.Normal('learn', vec_, eps, observed = rating) \n",
    "    \n",
    "    ev = pm.Deterministic('expected_value', vec_)\n",
    "    \n",
    "    trace_PH = pm.sample(nuts_sampler=\"blackjax\", idata_kwargs={'log_likelihood':True})"
   ]
  },
  {
   "cell_type": "markdown",
   "id": "21a9167f-98da-4619-8719-33aa058db78d",
   "metadata": {},
   "source": [
    "## Model comparison"
   ]
  },
  {
   "cell_type": "code",
   "execution_count": 10,
   "id": "a15e4cec-06e5-4fab-bbe1-ece2ab2a9c05",
   "metadata": {},
   "outputs": [
    {
     "data": {
      "text/html": [
       "<div>\n",
       "<style scoped>\n",
       "    .dataframe tbody tr th:only-of-type {\n",
       "        vertical-align: middle;\n",
       "    }\n",
       "\n",
       "    .dataframe tbody tr th {\n",
       "        vertical-align: top;\n",
       "    }\n",
       "\n",
       "    .dataframe thead th {\n",
       "        text-align: right;\n",
       "    }\n",
       "</style>\n",
       "<table border=\"1\" class=\"dataframe\">\n",
       "  <thead>\n",
       "    <tr style=\"text-align: right;\">\n",
       "      <th></th>\n",
       "      <th>rank</th>\n",
       "      <th>elpd_loo</th>\n",
       "      <th>p_loo</th>\n",
       "      <th>elpd_diff</th>\n",
       "      <th>weight</th>\n",
       "      <th>se</th>\n",
       "      <th>dse</th>\n",
       "      <th>warning</th>\n",
       "      <th>scale</th>\n",
       "    </tr>\n",
       "  </thead>\n",
       "  <tbody>\n",
       "    <tr>\n",
       "      <th>Counterfactual</th>\n",
       "      <td>0</td>\n",
       "      <td>-1681.888272</td>\n",
       "      <td>121.419684</td>\n",
       "      <td>0.000000</td>\n",
       "      <td>1.0</td>\n",
       "      <td>41.703439</td>\n",
       "      <td>0.000000</td>\n",
       "      <td>False</td>\n",
       "      <td>log</td>\n",
       "    </tr>\n",
       "    <tr>\n",
       "      <th>Valence</th>\n",
       "      <td>1</td>\n",
       "      <td>-2645.931034</td>\n",
       "      <td>83.315440</td>\n",
       "      <td>964.042763</td>\n",
       "      <td>0.0</td>\n",
       "      <td>45.340766</td>\n",
       "      <td>33.796153</td>\n",
       "      <td>False</td>\n",
       "      <td>log</td>\n",
       "    </tr>\n",
       "    <tr>\n",
       "      <th>Val-halves</th>\n",
       "      <td>2</td>\n",
       "      <td>-2649.443226</td>\n",
       "      <td>86.713087</td>\n",
       "      <td>967.554954</td>\n",
       "      <td>0.0</td>\n",
       "      <td>45.305220</td>\n",
       "      <td>33.776229</td>\n",
       "      <td>False</td>\n",
       "      <td>log</td>\n",
       "    </tr>\n",
       "    <tr>\n",
       "      <th>PH</th>\n",
       "      <td>3</td>\n",
       "      <td>-2877.153969</td>\n",
       "      <td>10.476271</td>\n",
       "      <td>1195.265697</td>\n",
       "      <td>0.0</td>\n",
       "      <td>44.338691</td>\n",
       "      <td>38.131916</td>\n",
       "      <td>False</td>\n",
       "      <td>log</td>\n",
       "    </tr>\n",
       "    <tr>\n",
       "      <th>Single learning</th>\n",
       "      <td>4</td>\n",
       "      <td>-3239.637871</td>\n",
       "      <td>21.284315</td>\n",
       "      <td>1557.749599</td>\n",
       "      <td>0.0</td>\n",
       "      <td>41.125442</td>\n",
       "      <td>37.996937</td>\n",
       "      <td>True</td>\n",
       "      <td>log</td>\n",
       "    </tr>\n",
       "    <tr>\n",
       "      <th>Halves</th>\n",
       "      <td>5</td>\n",
       "      <td>-3241.412402</td>\n",
       "      <td>22.359958</td>\n",
       "      <td>1559.524130</td>\n",
       "      <td>0.0</td>\n",
       "      <td>41.131729</td>\n",
       "      <td>37.999629</td>\n",
       "      <td>True</td>\n",
       "      <td>log</td>\n",
       "    </tr>\n",
       "    <tr>\n",
       "      <th>Decay</th>\n",
       "      <td>6</td>\n",
       "      <td>-3331.319513</td>\n",
       "      <td>25.743043</td>\n",
       "      <td>1649.431241</td>\n",
       "      <td>0.0</td>\n",
       "      <td>40.455956</td>\n",
       "      <td>38.405524</td>\n",
       "      <td>True</td>\n",
       "      <td>log</td>\n",
       "    </tr>\n",
       "  </tbody>\n",
       "</table>\n",
       "</div>"
      ],
      "text/plain": [
       "                 rank     elpd_loo       p_loo    elpd_diff  weight  \\\n",
       "Counterfactual      0 -1681.888272  121.419684     0.000000     1.0   \n",
       "Valence             1 -2645.931034   83.315440   964.042763     0.0   \n",
       "Val-halves          2 -2649.443226   86.713087   967.554954     0.0   \n",
       "PH                  3 -2877.153969   10.476271  1195.265697     0.0   \n",
       "Single learning     4 -3239.637871   21.284315  1557.749599     0.0   \n",
       "Halves              5 -3241.412402   22.359958  1559.524130     0.0   \n",
       "Decay               6 -3331.319513   25.743043  1649.431241     0.0   \n",
       "\n",
       "                        se        dse  warning scale  \n",
       "Counterfactual   41.703439   0.000000    False   log  \n",
       "Valence          45.340766  33.796153    False   log  \n",
       "Val-halves       45.305220  33.776229    False   log  \n",
       "PH               44.338691  38.131916    False   log  \n",
       "Single learning  41.125442  37.996937     True   log  \n",
       "Halves           41.131729  37.999629     True   log  \n",
       "Decay            40.455956  38.405524     True   log  "
      ]
     },
     "execution_count": 10,
     "metadata": {},
     "output_type": "execute_result"
    }
   ],
   "source": [
    "models = {'Single learning': trace_single, \n",
    "          'Halves': trace_halves,\n",
    "          'Valence': trace_valence,\n",
    "          'Val-halves': trace_valence_halves,\n",
    "          'Decay': trace_decay,\n",
    "          'Counterfactual': trace_counterfactual,\n",
    "          'PH': trace_PH\n",
    "}\n",
    "\n",
    "az.compare(models, ic='loo')"
   ]
  },
  {
   "cell_type": "code",
   "execution_count": 11,
   "id": "f60bbf19-e323-41cf-ba8a-893eb77f075d",
   "metadata": {},
   "outputs": [
    {
     "data": {
      "text/plain": [
       "<AxesSubplot: title={'center': 'Model comparison\\nhigher is better'}, xlabel='elpd_loo (log)', ylabel='ranked models'>"
      ]
     },
     "execution_count": 11,
     "metadata": {},
     "output_type": "execute_result"
    },
    {
     "data": {
      "image/png": "[encoded data removed]",
      "text/plain": [
       "<Figure size 600x700 with 1 Axes>"
      ]
     },
     "metadata": {},
     "output_type": "display_data"
    }
   ],
   "source": [
    "az.plot_compare(az.compare(models, ic='loo'))"
   ]
  },
  {
   "cell_type": "markdown",
   "id": "61fd9d3f-7c0d-40b6-a339-e7bd21aa9ca9",
   "metadata": {},
   "source": [
    "Comparing the models, the Valence model demonstrated the best fit to the data, as indicated by the highest expected log predictive density (elpd_loo) of -2254.72 and a weight of 1.00.\n",
    "\n",
    "This model outperformed all alternatives:</br>\n",
    "1. the halves model - Valence had a stronger effect than reversal.</br>\n",
    "2. The decay model - the diminished influence of older data was less pronounced in the data.</br>\n",
    "3. Pierce-Hall hybrid model - A constant learning rate fit better than a dynamic one.</br>\n",
    "\n",
    "Overall, the Valence model provides the most reliable predictions, with substantial evidence favoring its superiority.\n",
    "\n",
    "## Step 2: Modeling Sex and Age\n",
    "\n",
    "This step introduces models to investigate if participants's sex and age influence learning rates.</br>\n",
    "\n",
    "#### data preparation \n",
    "Create lists for age (Z transform) and sex"
   ]
  },
  {
   "cell_type": "code",
   "execution_count": 12,
   "id": "ca363b47-bb51-4d2a-88a9-4d9d8c4b17d4",
   "metadata": {},
   "outputs": [],
   "source": [
    "ageList = db[['sub','age']].drop_duplicates()\n",
    "ageList = (ageList['age'].values - ageList['age'].mean())/ageList['age'].std()\n",
    "\n",
    "genderList = db[['sub','Gender']].drop_duplicates()\n",
    "genderList = list(genderList['Gender'])"
   ]
  },
  {
   "cell_type": "markdown",
   "id": "6e5c4428-b8e1-485b-9165-c2de79f733a4",
   "metadata": {},
   "source": [
    "### Modeling Gender Using counterfactual learning model"
   ]
  },
  {
   "cell_type": "code",
   "execution_count": 13,
   "id": "fce3469c-ac2c-492c-895c-c956922aefe7",
   "metadata": {},
   "outputs": [
    {
     "name": "stdout",
     "output_type": "stream",
     "text": [
      "CPU times: user 2min 52s, sys: 998 ms, total: 2min 53s\n",
      "Wall time: 57.9 s\n"
     ]
    }
   ],
   "source": [
    "%%time\n",
    "with pm.Model() as model_counterfactual_gender:\n",
    "\n",
    "    # Hyper priors for actual and counterfactual learning rates\n",
    "    a1 = pm.TruncatedNormal('a1', 1, 1, lower=0)\n",
    "    b1 = pm.TruncatedNormal('b1', 3, 1, lower=0)\n",
    "\n",
    "    a2 = pm.TruncatedNormal('a2', 1, 1, lower=0)\n",
    "    b2 = pm.TruncatedNormal('b2', 3, 1, lower=0)\n",
    "\n",
    "    gender    = pm.Normal('gender',    0, 1)\n",
    "    gender_cf = pm.Normal('gender_cf', 0, 1)\n",
    "    \n",
    "    # Learning rate for actual (chosen) updates\n",
    "    alpha = pm.Beta('alpha', a1, b1, shape=n_subj)\n",
    "\n",
    "    # Learning rate for counterfactual (unchosen) updates\n",
    "    alpha_counterfactual = pm.Beta('alpha_counterfactual', a2, b2, shape=n_subj)\n",
    "\n",
    "    a_g   = alpha + gender * genderList\n",
    "    a_gcf = alpha_counterfactual + gender_cf * genderList\n",
    "    \n",
    "    # Observation noise\n",
    "    eps = pm.Gamma('eps', 3, 1)\n",
    "    \n",
    "    # Initialize As (value estimates) and vec (prediction error tracking)\n",
    "    As  = 0 * pt.ones((n_subj, 2), dtype='float64')\n",
    "    vec = 0 * pt.ones((n_subj, 1), dtype='float64')\n",
    "    \n",
    "    # Update As and vec using the counterfactual learning function with separate learning rates\n",
    "    [As, vec], _ = scan(  \n",
    "        fn            = learning_function.update_counterfactual,  # Use the counterfactual update function\n",
    "        sequences     = [stim_tensor, reward_tensor],\n",
    "        outputs_info  = [As, vec],\n",
    "        non_sequences = [a_g, a_gcf, n_subj]\n",
    "    )\n",
    "    \n",
    "    # Select the appropriate vector for each trial and subject\n",
    "    vec_ = vec[trials, subj, 0]\n",
    "    \n",
    "    # Likelihood for observed data (ratings)\n",
    "    learn = pm.Normal('learn', mu=vec_, sigma=eps, observed=rating)\n",
    "    \n",
    "    # Expected values over trials\n",
    "    ev = pm.Deterministic('expected_value', vec_)\n",
    "    \n",
    "    # Sample from the posterior\n",
    "    trace_counterfactual_gender = pm.sample(nuts_sampler=\"blackjax\", idata_kwargs={'log_likelihood':True},draws=2000)"
   ]
  },
  {
   "cell_type": "code",
   "execution_count": 14,
   "id": "f3a0bcb5-f438-4516-8dde-2f172ee1e24f",
   "metadata": {},
   "outputs": [
    {
     "data": {
      "text/html": [
       "<div>\n",
       "<style scoped>\n",
       "    .dataframe tbody tr th:only-of-type {\n",
       "        vertical-align: middle;\n",
       "    }\n",
       "\n",
       "    .dataframe tbody tr th {\n",
       "        vertical-align: top;\n",
       "    }\n",
       "\n",
       "    .dataframe thead th {\n",
       "        text-align: right;\n",
       "    }\n",
       "</style>\n",
       "<table border=\"1\" class=\"dataframe\">\n",
       "  <thead>\n",
       "    <tr style=\"text-align: right;\">\n",
       "      <th></th>\n",
       "      <th>mean</th>\n",
       "      <th>sd</th>\n",
       "      <th>hdi_5.5%</th>\n",
       "      <th>hdi_94.5%</th>\n",
       "      <th>mcse_mean</th>\n",
       "      <th>mcse_sd</th>\n",
       "      <th>ess_bulk</th>\n",
       "      <th>ess_tail</th>\n",
       "      <th>r_hat</th>\n",
       "    </tr>\n",
       "  </thead>\n",
       "  <tbody>\n",
       "    <tr>\n",
       "      <th>gender</th>\n",
       "      <td>0.081</td>\n",
       "      <td>0.014</td>\n",
       "      <td>0.059</td>\n",
       "      <td>0.103</td>\n",
       "      <td>0.000</td>\n",
       "      <td>0.0</td>\n",
       "      <td>939.0</td>\n",
       "      <td>2823.0</td>\n",
       "      <td>1.01</td>\n",
       "    </tr>\n",
       "    <tr>\n",
       "      <th>gender_cf</th>\n",
       "      <td>0.086</td>\n",
       "      <td>0.019</td>\n",
       "      <td>0.056</td>\n",
       "      <td>0.116</td>\n",
       "      <td>0.001</td>\n",
       "      <td>0.0</td>\n",
       "      <td>920.0</td>\n",
       "      <td>2095.0</td>\n",
       "      <td>1.00</td>\n",
       "    </tr>\n",
       "  </tbody>\n",
       "</table>\n",
       "</div>"
      ],
      "text/plain": [
       "            mean     sd  hdi_5.5%  hdi_94.5%  mcse_mean  mcse_sd  ess_bulk  \\\n",
       "gender     0.081  0.014     0.059      0.103      0.000      0.0     939.0   \n",
       "gender_cf  0.086  0.019     0.056      0.116      0.001      0.0     920.0   \n",
       "\n",
       "           ess_tail  r_hat  \n",
       "gender       2823.0   1.01  \n",
       "gender_cf    2095.0   1.00  "
      ]
     },
     "execution_count": 14,
     "metadata": {},
     "output_type": "execute_result"
    }
   ],
   "source": [
    "az.summary(trace_counterfactual_gender, var_names=['gender', 'gender_cf'], hdi_prob=.89)"
   ]
  },
  {
   "cell_type": "markdown",
   "id": "8747d353-930b-4918-8157-e7d27ce19557",
   "metadata": {},
   "source": [
    "The model results suggest a notable difference in learning rates between genders, with men showing an average increase of 0.081 in the learning rate and 0.086 in counterfactual learning.\n",
    "\n",
    "\n",
    "### Modeling age Using counterfactual learning"
   ]
  },
  {
   "cell_type": "code",
   "execution_count": 15,
   "id": "2c3a3954-b137-4fc4-b325-ba04ae54b4cb",
   "metadata": {},
   "outputs": [
    {
     "name": "stdout",
     "output_type": "stream",
     "text": [
      "CPU times: user 4min 4s, sys: 896 ms, total: 4min 5s\n",
      "Wall time: 2min 16s\n"
     ]
    }
   ],
   "source": [
    "%%time\n",
    "with pm.Model() as model_counterfactual_age:\n",
    "\n",
    "    # Hyper priors for actual and counterfactual learning rates\n",
    "    a1 = pm.TruncatedNormal('a1', 1, 1, lower=0)\n",
    "    b1 = pm.TruncatedNormal('b1', 3, 1, lower=0)\n",
    "\n",
    "    a2 = pm.TruncatedNormal('a2', 1, 1, lower=0)\n",
    "    b2 = pm.TruncatedNormal('b2', 3, 1, lower=0)\n",
    "\n",
    "    age    = pm.Normal('age',    0, 1)\n",
    "    age_cf = pm.Normal('age_cf', 0, 1)\n",
    "    \n",
    "    # Learning rate for actual (chosen) updates\n",
    "    alpha = pm.Beta('alpha', a1, b1, shape=n_subj)\n",
    "\n",
    "    # Learning rate for counterfactual (unchosen) updates\n",
    "    alpha_counterfactual = pm.Beta('alpha_counterfactual', a2, b2, shape=n_subj)\n",
    "\n",
    "    a_a  = alpha + age * ageList\n",
    "    a_acf = alpha_counterfactual + age_cf * ageList\n",
    "    \n",
    "    # Observation noise\n",
    "    eps = pm.Gamma('eps', 3, 1)\n",
    "    \n",
    "    # Initialize As (value estimates) and vec (prediction error tracking)\n",
    "    As  = 0 * pt.ones((n_subj, 2), dtype='float64')\n",
    "    vec = 0 * pt.ones((n_subj, 1), dtype='float64')\n",
    "    \n",
    "    # Update As and vec using the counterfactual learning function with separate learning rates\n",
    "    [As, vec], _ = scan(  \n",
    "        fn            = learning_function.update_counterfactual,  # Use the counterfactual update function\n",
    "        sequences     = [stim_tensor, reward_tensor],\n",
    "        outputs_info  = [As, vec],\n",
    "        non_sequences = [a_a, a_acf, n_subj]\n",
    "    )\n",
    "    \n",
    "    # Select the appropriate vector for each trial and subject\n",
    "    vec_ = vec[trials, subj, 0]\n",
    "    \n",
    "    # Likelihood for observed data (ratings)\n",
    "    learn = pm.Normal('learn', mu=vec_, sigma=eps, observed=rating)\n",
    "    \n",
    "    # Expected values over trials\n",
    "    ev = pm.Deterministic('expected_value', vec_)\n",
    "    \n",
    "    # Sample from the posterior\n",
    "    trace_counterfactual_age = pm.sample(nuts_sampler=\"blackjax\", idata_kwargs={'log_likelihood':True},draws=2000)"
   ]
  },
  {
   "cell_type": "code",
   "execution_count": 16,
   "id": "dda8e786-fa44-446a-ace4-317e3a6a005e",
   "metadata": {
    "scrolled": true
   },
   "outputs": [
    {
     "data": {
      "text/html": [
       "<div>\n",
       "<style scoped>\n",
       "    .dataframe tbody tr th:only-of-type {\n",
       "        vertical-align: middle;\n",
       "    }\n",
       "\n",
       "    .dataframe tbody tr th {\n",
       "        vertical-align: top;\n",
       "    }\n",
       "\n",
       "    .dataframe thead th {\n",
       "        text-align: right;\n",
       "    }\n",
       "</style>\n",
       "<table border=\"1\" class=\"dataframe\">\n",
       "  <thead>\n",
       "    <tr style=\"text-align: right;\">\n",
       "      <th></th>\n",
       "      <th>mean</th>\n",
       "      <th>sd</th>\n",
       "      <th>hdi_5.5%</th>\n",
       "      <th>hdi_94.5%</th>\n",
       "      <th>mcse_mean</th>\n",
       "      <th>mcse_sd</th>\n",
       "      <th>ess_bulk</th>\n",
       "      <th>ess_tail</th>\n",
       "      <th>r_hat</th>\n",
       "    </tr>\n",
       "  </thead>\n",
       "  <tbody>\n",
       "    <tr>\n",
       "      <th>age</th>\n",
       "      <td>-0.001</td>\n",
       "      <td>0.015</td>\n",
       "      <td>-0.025</td>\n",
       "      <td>0.023</td>\n",
       "      <td>0.001</td>\n",
       "      <td>0.0</td>\n",
       "      <td>754.0</td>\n",
       "      <td>1796.0</td>\n",
       "      <td>1.01</td>\n",
       "    </tr>\n",
       "    <tr>\n",
       "      <th>age_cf</th>\n",
       "      <td>-0.003</td>\n",
       "      <td>0.017</td>\n",
       "      <td>-0.029</td>\n",
       "      <td>0.025</td>\n",
       "      <td>0.001</td>\n",
       "      <td>0.0</td>\n",
       "      <td>1136.0</td>\n",
       "      <td>1793.0</td>\n",
       "      <td>1.00</td>\n",
       "    </tr>\n",
       "  </tbody>\n",
       "</table>\n",
       "</div>"
      ],
      "text/plain": [
       "         mean     sd  hdi_5.5%  hdi_94.5%  mcse_mean  mcse_sd  ess_bulk  \\\n",
       "age    -0.001  0.015    -0.025      0.023      0.001      0.0     754.0   \n",
       "age_cf -0.003  0.017    -0.029      0.025      0.001      0.0    1136.0   \n",
       "\n",
       "        ess_tail  r_hat  \n",
       "age       1796.0   1.01  \n",
       "age_cf    1793.0   1.00  "
      ]
     },
     "execution_count": 16,
     "metadata": {},
     "output_type": "execute_result"
    }
   ],
   "source": [
    "az.summary(trace_counterfactual_age, var_names=['age', 'age_cf'], hdi_prob=.89)"
   ]
  },
  {
   "cell_type": "code",
   "execution_count": 17,
   "id": "c48620f5-b11b-4f2b-8a23-516615f0a7e1",
   "metadata": {},
   "outputs": [
    {
     "name": "stdout",
     "output_type": "stream",
     "text": [
      "Last updated: Thu Sep 19 2024\n",
      "\n",
      "Python implementation: CPython\n",
      "Python version       : 3.11.0\n",
      "IPython version      : 8.20.0\n",
      "\n",
      "xarray: 2023.6.0\n",
      "\n",
      "numpy     : 1.23.5\n",
      "pytensor  : 2.25.2\n",
      "pandas    : 1.5.3\n",
      "seaborn   : 0.12.2\n",
      "matplotlib: 3.6.3\n",
      "pymc      : 5.16.2\n",
      "arviz     : 0.17.1\n",
      "\n",
      "Watermark: 2.4.3\n",
      "\n"
     ]
    }
   ],
   "source": [
    "%load_ext watermark\n",
    "%watermark -n -u -v -iv -w -p xarray"
   ]
  }
 ],
 "metadata": {
  "kernelspec": {
   "display_name": "Python 3 (ipykernel)",
   "language": "python",
   "name": "python3"
  },
  "language_info": {
   "codemirror_mode": {
    "name": "ipython",
    "version": 3
   },
   "file_extension": ".py",
   "mimetype": "text/x-python",
   "name": "python",
   "nbconvert_exporter": "python",
   "pygments_lexer": "ipython3",
   "version": "3.11.0"
  }
 },
 "nbformat": 4,
 "nbformat_minor": 5
}
